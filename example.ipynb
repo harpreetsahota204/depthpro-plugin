{
  "nbformat": 4,
  "nbformat_minor": 0,
  "metadata": {
    "colab": {
      "provenance": [],
      "machine_shape": "hm",
      "gpuType": "L4"
    },
    "kernelspec": {
      "name": "python3",
      "display_name": "Python 3"
    },
    "language_info": {
      "name": "python"
    },
    "accelerator": "GPU"
  },
  "cells": [
    {
      "cell_type": "code",
      "execution_count": null,
      "metadata": {
        "id": "krWNArK1NBG9"
      },
      "outputs": [],
      "source": [
        "!pip install fiftyone"
      ]
    },
    {
      "cell_type": "code",
      "source": [
        "!fiftyone plugins download https://github.com/harpreetsahota204/depthpro-plugin"
      ],
      "metadata": {
        "id": "bu92bzatBS27"
      },
      "execution_count": null,
      "outputs": []
    },
    {
      "cell_type": "code",
      "source": [
        "# Install any requirements for the plugin\n",
        "!fiftyone plugins requirements @harpreetsahota/depth_pro_plugin --install"
      ],
      "metadata": {
        "id": "oar9IA8rLswJ"
      },
      "execution_count": null,
      "outputs": []
    },
    {
      "cell_type": "code",
      "source": [
        "import fiftyone.zoo as foz"
      ],
      "metadata": {
        "id": "HmOFRmDeLs4B"
      },
      "execution_count": null,
      "outputs": []
    },
    {
      "cell_type": "code",
      "source": [
        "dataset = foz.load_zoo_dataset(\"quickstart\")"
      ],
      "metadata": {
        "id": "me7w12ldLs8F"
      },
      "execution_count": null,
      "outputs": []
    },
    {
      "cell_type": "code",
      "source": [
        "import fiftyone.operators as foo\n",
        "\n",
        "depthpro = foo.get_operator(\"@harpreetsahota/depth_pro_plugin/depth_pro_estimator\")"
      ],
      "metadata": {
        "id": "THn0aLppO4Yw"
      },
      "execution_count": null,
      "outputs": []
    },
    {
      "cell_type": "code",
      "source": [
        "await depthpro(\n",
        "    dataset,\n",
        "    depth_field=\"depth_map\",\n",
        "    depth_type=\"inverse\",\n",
        "    delegate=True\n",
        "    )"
      ],
      "metadata": {
        "id": "IWZgKZBHPNmC"
      },
      "execution_count": null,
      "outputs": []
    },
    {
      "cell_type": "code",
      "source": [
        "import fiftyone as fo\n",
        "fo.launch_app(dataset)"
      ],
      "metadata": {
        "id": "P2KvtEENSk3_"
      },
      "execution_count": null,
      "outputs": []
    }
  ]
}